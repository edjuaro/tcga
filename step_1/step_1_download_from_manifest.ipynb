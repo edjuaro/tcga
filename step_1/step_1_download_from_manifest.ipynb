{
 "cells": [
  {
   "cell_type": "code",
   "execution_count": 30,
   "metadata": {},
   "outputs": [],
   "source": [
    "import subprocess\n",
    "from subprocess import call\n",
    "import pandas as pd\n",
    "import os\n",
    "import shutil\n",
    "import gzip\n",
    "import json\n",
    "# import sys\n",
    "\n",
    "\n",
    "def uncompress_gzip(file_name, new_name=None, delete=True):\n",
    "    # Read the stream and write that stream to a new file:\n",
    "    in_file = gzip.open(file_name, 'rb')\n",
    "    if new_name is None:\n",
    "        out_file = open(file_name.strip('.gz'), 'wb')\n",
    "    else:\n",
    "        out_file = open(new_name, 'wb')\n",
    "    out_file.write(in_file.read())\n",
    "    in_file.close()\n",
    "    out_file.close()\n",
    "    if delete:\n",
    "        os.remove(file_name)\n",
    "        \n",
    "def execute(comando, doitlive=False, input_to_use=None):\n",
    "    # result = subprocess.run(['ls', '-l'], stdout=subprocess.PIPE)\n",
    "    comando = comando.split(' ')\n",
    "\n",
    "    if doitlive:\n",
    "        popen = subprocess.Popen(comando, stdout=subprocess.PIPE, universal_newlines=True)\n",
    "        to_return = popen.stdout.read()\n",
    "        for line in to_return:\n",
    "            print(line, end='')\n",
    "        popen.stdout.close()\n",
    "        return_code = popen.wait()\n",
    "        if return_code:\n",
    "            raise subprocess.CalledProcessError(return_code, comando)\n",
    "    else:\n",
    "        if input_to_use is not None:\n",
    "            input_to_use = input_to_use.ecode('utf-8')\n",
    "        result = subprocess.run(comando, stdout=subprocess.PIPE, stderr=subprocess.PIPE, input=input_to_use)\n",
    "        to_return = result.stdout.decode('utf-8')\n",
    "        print(to_return)\n",
    "    return to_return.strip('\\n')"
   ]
  },
  {
   "cell_type": "code",
   "execution_count": 31,
   "metadata": {},
   "outputs": [],
   "source": [
    "dataset_name = 'BRCA_all'"
   ]
  },
  {
   "cell_type": "code",
   "execution_count": 32,
   "metadata": {},
   "outputs": [
    {
     "name": "stdout",
     "output_type": "stream",
     "text": [
      "This download may take a while, please be patient.\n",
      "  0% [                                            ] ETA:  --:--:--   0.00  B/s \n",
      "100% [#############################################] ETA:  0:00:00   0.68  B/s \n",
      "100% [#############################################] Time: 0:00:01   0.68  B/s \n",
      "  0% [                                            ] ETA:  --:--:--   0.00  B/s \n",
      "100% [#############################################] ETA:  0:00:00   0.84  B/s \n",
      "100% [#############################################] Time: 0:00:01   0.84  B/s \n",
      "  0% [                                            ] ETA:  --:--:--   0.00  B/s \n",
      "100% [#############################################] ETA:  0:00:00   0.65  B/s \n",
      "100% [#############################################] Time: 0:00:01   0.65  B/s \n",
      "  0% [                                            ] ETA:  --:--:--   0.00  B/s \n",
      "100% [#############################################] ETA:  0:00:00   0.39  B/s \n",
      "100% [#############################################] Time: 0:00:02   0.39  B/s \n",
      "  0% [                                            ] ETA:  --:--:--   0.00  B/s \n",
      "100% [#############################################] ETA:  0:00:00   0.83  B/s \n",
      "100% [#############################################] Time: 0:00:01   0.83  B/s \n",
      "  0% [                                            ] ETA:  --:--:--   0.00  B/s \n",
      "100% [#############################################] ETA:  0:00:00   0.72  B/s \n",
      "100% [#############################################] Time: 0:00:01   0.72  B/s \n",
      "  0% [                                            ] ETA:  --:--:--   0.00  B/s \n",
      "100% [#############################################] ETA:  0:00:00   0.83  B/s \n",
      "100% [#############################################] Time: 0:00:01   0.83  B/s \n",
      "  0% [                                            ] ETA:  --:--:--   0.00  B/s \n",
      "100% [#############################################] ETA:  0:00:00   0.83  B/s \n",
      "100% [#############################################] Time: 0:00:01   0.83  B/s \n",
      "  0% [                                            ] ETA:  --:--:--   0.00  B/s \n",
      "100% [#############################################] ETA:  0:00:00   0.84  B/s \n",
      "100% [#############################################] Time: 0:00:01   0.84  B/s \n",
      "  0% [                                            ] ETA:  --:--:--   0.00  B/s \n",
      "100% [#############################################] ETA:  0:00:00   0.89  B/s \n",
      "100% [#############################################] Time: 0:00:01   0.89  B/s \n",
      "  0% [                                            ] ETA:  --:--:--   0.00  B/s \n",
      "100% [#############################################] Time: 0:00:00 380.05 kB/s \n",
      "\u001b[32mSuccessfully downloaded\u001b[0m: 50\n",
      "All files in manifest were downloaded, probably. To be sure, check the output of the gdc-client.\n"
     ]
    }
   ],
   "source": [
    "# Download from manifest\n",
    "# manifest = \"gdc_manifest_20171221_005438.txt\"\n",
    "manifest = \"gdc_medifest_20171221_005438.txt\"\n",
    "command = \"./gdc-client download -m \"+manifest\n",
    "print('This download may take a while, please be patient.')\n",
    "execute(command, doitlive=True)\n",
    "print('All files in manifest were downloaded, probably. To be sure, check the output of the gdc-client.')"
   ]
  },
  {
   "cell_type": "code",
   "execution_count": 33,
   "metadata": {},
   "outputs": [],
   "source": [
    "# Read manifest and create a dictionary of useful data\n",
    "dfest = pd.read_table(manifest)\n",
    "\n",
    "# Parse metadata\n",
    "metadata_file = \"metadata.cart.2017-12-21T21_41_22.870798.json\"\n",
    "meta_data = json.load(open(metadata_file))\n",
    "\n",
    "# Make a dictionary to map file names to TCGA unique ID's\n",
    "#   # if we wanted to have only one sample per patient per \"phenotype\" we could use this:\n",
    "#   # meta_data[0]['cases'][0]['samples'][0]['submitter_id']\n",
    "#   # But since we want a unique ID for each HTSeq file (some patient/phenotypes will have multiple vials/replicates):\n",
    "#   # meta_data[0]['cases'][0]['samples'][0]['portions'][0]['analytes'][0]['aliquots'][0]['submitter_id']\n",
    "#   # Read more hre: https://wiki.nci.nih.gov/display/TCGA/Understanding+TCGA+Biospecimen+IDs\n",
    "name_id_dict = {}\n",
    "for i in range(len(meta_data)):\n",
    "    file_name = meta_data[i]['file_name']\n",
    "    unique_id = meta_data[i]['cases'][0]['samples'][0]['portions'][0]['analytes'][0]['aliquots'][0]['submitter_id']\n",
    "    name_id_dict[file_name] = unique_id"
   ]
  },
  {
   "cell_type": "code",
   "execution_count": 34,
   "metadata": {},
   "outputs": [
    {
     "name": "stdout",
     "output_type": "stream",
     "text": [
      "/Users/edjuaro/GoogleDrive/tcga/step_1\n",
      "\n",
      "All files were moved and \"decompressed\" successfully.\n"
     ]
    }
   ],
   "source": [
    "# pwd = os.path.dirname(__file__)\n",
    "pwd = execute('pwd')\n",
    "destination = os.path.join(pwd, 'raw_files')\n",
    "if not os.path.isdir(destination):\n",
    "    os.mkdir(destination)\n",
    "\n",
    "for d, f in zip(dfest['id'], dfest['filename']):\n",
    "    shutil.copy(os.path.join(d, f), destination)  # Move the downloaded files to a folder\n",
    "    shutil.rmtree(d)  # Remove those files/folders from current directory\n",
    "    # \"decompress\" and remove gz files\n",
    "    uncompress_gzip(os.path.join(destination, f), new_name=os.path.join(destination, name_id_dict[f]+'.htseq.counts'))\n",
    "print('All files were moved and \"decompressed\" successfully.')"
   ]
  },
  {
   "cell_type": "markdown",
   "metadata": {},
   "source": [
    "# From a list of HTSeq.counts files to a gct:"
   ]
  },
  {
   "cell_type": "markdown",
   "metadata": {},
   "source": [
    "## Make sample info file"
   ]
  },
  {
   "cell_type": "code",
   "execution_count": 35,
   "metadata": {},
   "outputs": [],
   "source": [
    "class_dict ={\n",
    "    '01':'Tumor',\n",
    "    '02':'Tumor',\n",
    "    '03':'Tumor',\n",
    "    '04':'Tumor',\n",
    "    '05':'Tumor',\n",
    "    '06':'Tumor',\n",
    "    '07':'Tumor',\n",
    "    '08':'Tumor',\n",
    "    '09':'Tumor',\n",
    "    '10':'Normal',\n",
    "    '11':'Normal',\n",
    "    '12':'Normal',\n",
    "    '13':'Normal',\n",
    "    '14':'Normal',\n",
    "    '15':'Normal',\n",
    "    '16':'Normal',\n",
    "    '17':'Normal',\n",
    "    '18':'Normal',\n",
    "    '19':'Normal',\n",
    "}"
   ]
  },
  {
   "cell_type": "code",
   "execution_count": 36,
   "metadata": {},
   "outputs": [
    {
     "name": "stdout",
     "output_type": "stream",
     "text": [
      "TCGA-A8-A07U-01A-11R-A034-07\n",
      "TCGA-E2-A15E-06A-11R-A12D-07\n",
      "TCGA-D8-A1JM-01A-11R-A13Q-07\n",
      "TCGA-AN-A0AT-01A-11R-A034-07\n",
      "TCGA-EW-A3E8-01B-11R-A24H-07\n",
      "TCGA-A8-A085-01A-11R-A00Z-07\n",
      "TCGA-AO-A1KQ-01A-11R-A13Q-07\n",
      "TCGA-BH-A0E0-01A-11R-A056-07\n",
      "TCGA-D8-A1JS-01A-11R-A13Q-07\n",
      "TCGA-E2-A2P5-01A-11R-A19W-07\n",
      "TCGA-D8-A1J9-01A-11R-A13Q-07\n",
      "TCGA-BH-A0H5-11A-62R-A115-07\n",
      "TCGA-E2-A56Z-01A-12R-A29R-07\n",
      "TCGA-OL-A5RZ-01A-11R-A28M-07\n",
      "TCGA-BH-A1EO-01A-11R-A137-07\n",
      "TCGA-BH-A0HQ-01A-11R-A034-07\n",
      "TCGA-B6-A0IO-01A-11R-A034-07\n",
      "TCGA-D8-A1XO-01A-11R-A14M-07\n",
      "TCGA-BH-A28Q-01A-11R-A16F-07\n",
      "TCGA-AN-A0FT-01A-11R-A034-07\n",
      "TCGA-BH-A0HA-11A-31R-A12P-07\n",
      "TCGA-AO-A0JJ-01A-11R-A056-07\n",
      "TCGA-AO-A129-01A-21R-A10J-07\n",
      "TCGA-E9-A54Y-01A-11R-A466-07\n",
      "TCGA-V7-A7HQ-01A-11R-A33J-07\n",
      "TCGA-BH-A1FL-01A-11R-A13Q-07\n",
      "TCGA-AC-A23E-01A-11R-A157-07\n",
      "TCGA-AN-A0XL-01A-11R-A10J-07\n",
      "TCGA-BH-A0HA-01A-11R-A12P-07\n",
      "TCGA-AR-A0TR-01A-11R-A084-07\n",
      "TCGA-BH-A0BZ-11A-61R-A12P-07\n",
      "TCGA-A2-A04Q-01A-21R-A034-07\n",
      "TCGA-BH-A0DV-01A-21R-A12P-07\n",
      "TCGA-AN-A0XP-01A-11R-A109-07\n",
      "TCGA-E9-A5UO-01A-11R-A28M-07\n",
      "TCGA-PL-A8LV-01A-21R-A41B-07\n",
      "TCGA-D8-A1JE-01A-11R-A13Q-07\n",
      "TCGA-BH-A0HI-01A-11R-A084-07\n",
      "TCGA-B6-A0WW-01A-11R-A109-07\n",
      "TCGA-AQ-A0Y5-01A-11R-A14M-07\n",
      "TCGA-AC-A6NO-01A-12R-A33J-07\n",
      "TCGA-BH-A0B9-01A-11R-A056-07\n",
      "TCGA-B6-A0X4-01A-11R-A109-07\n",
      "TCGA-C8-A12Y-01A-11R-A12D-07\n",
      "TCGA-A8-A0A7-01A-11R-A00Z-07\n",
      "TCGA-BH-A0B2-01A-11R-A10J-07\n",
      "TCGA-BH-A0BT-11A-21R-A12P-07\n",
      "TCGA-A8-A07L-01A-11R-A00Z-07\n",
      "TCGA-EW-A424-01A-11R-A24H-07\n",
      "TCGA-A8-A09X-01A-11R-A00Z-07\n"
     ]
    }
   ],
   "source": [
    "name = 'TCGA_'+dataset_name+'.txt'\n",
    "file = open(name, 'w')\n",
    "file.write('File\\tClass\\tSample_Name\\n')\n",
    "for f in dfest['filename']:\n",
    "    \n",
    "    #TODO: add a filter here for the types of samples we want. I am using all \"0x\"and \"1x\" samples... \n",
    "    #but presumably we only want \"01\" and \"11\" but then we should remove those from the directory (moved them to \"unused\")\n",
    "    \n",
    "#     if name_id_dict[f][13:15] == '01':\n",
    "#         # file.write('\\t'.join([name_id_dict[f]+'.htseq',class_dict[name_id_dict[f][17:19]] ,name_id_dict[f]]))\n",
    "#         file.write('\\t'.join([name_id_dict[f]+'.htseq','Tumor', name_id_dict[f]]))\n",
    "#         file.write('\\n')\n",
    "#         print(name_id_dict[f])\n",
    "#     if name_id_dict[f][13:15] == '11':\n",
    "#         file.write('\\t'.join([name_id_dict[f]+'.htseq','Normal', name_id_dict[f]]))\n",
    "#         file.write('\\n')\n",
    "#         print(name_id_dict[f])\n",
    "    if name_id_dict[f][13] == '0':\n",
    "        # file.write('\\t'.join([name_id_dict[f]+'.htseq',class_dict[name_id_dict[f][17:19]] ,name_id_dict[f]]))\n",
    "        file.write('\\t'.join([name_id_dict[f]+'.htseq','Tumor', name_id_dict[f]]))\n",
    "        file.write('\\n')\n",
    "        print(name_id_dict[f])\n",
    "    if name_id_dict[f][13] == '1':\n",
    "        file.write('\\t'.join([name_id_dict[f]+'.htseq','Normal', name_id_dict[f]]))\n",
    "        file.write('\\n')\n",
    "        print(name_id_dict[f])\n",
    "file.close()"
   ]
  },
  {
   "cell_type": "markdown",
   "metadata": {},
   "source": [
    "EDWIN: from here, call MergeHTSeqCounts... it may be tedious when there are thousands of files, but we gotta drink our own champaigne!"
   ]
  },
  {
   "cell_type": "code",
   "execution_count": null,
   "metadata": {},
   "outputs": [],
   "source": [
    "# import gp\n",
    "# # Create a GenePattern server proxy instance\n",
    "# gpserver = gp.GPServer('http://gp-beta-ami.genepattern.org/gp','edwin', 'nada')\n",
    "# module = gp.GPTask(gpserver, \"MergeHTSeqCounts\")  # Obtaining GPTask by module name\n",
    "# module.param_load()"
   ]
  },
  {
   "cell_type": "code",
   "execution_count": null,
   "metadata": {},
   "outputs": [],
   "source": [
    "# params_list = module.get_parameters()  # Get the list of GPParam objects\n",
    "\n",
    "# for param in params_list:  # Loop through each parameter\n",
    "#     print( param.get_name() )  # Print the parameter's name\n",
    "#     print( param.get_default_value() )  # Print the parameter's default value\n",
    "#     print( param.is_optional() )  # Print whether the parameter is optional\n",
    "#     print('---')"
   ]
  },
  {
   "cell_type": "code",
   "execution_count": 7,
   "metadata": {
    "genepattern": {
     "server": "https://gp-beta-ami.genepattern.org/gp",
     "type": "auth"
    }
   },
   "outputs": [
    {
     "data": {
      "application/vnd.jupyter.widget-view+json": {
       "model_id": "9cd6440accbd449898bbf7ed65aef627",
       "version_major": 2,
       "version_minor": 0
      },
      "text/html": [
       "<p>Failed to display Jupyter Widget of type <code>GPAuthWidget</code>.</p>\n",
       "<p>\n",
       "  If you're reading this message in the Jupyter Notebook or JupyterLab Notebook, it may mean\n",
       "  that the widgets JavaScript is still loading. If this message persists, it\n",
       "  likely means that the widgets JavaScript library is either not installed or\n",
       "  not enabled. See the <a href=\"https://ipywidgets.readthedocs.io/en/stable/user_install.html\">Jupyter\n",
       "  Widgets Documentation</a> for setup instructions.\n",
       "</p>\n",
       "<p>\n",
       "  If you're reading this message in another frontend (for example, a static\n",
       "  rendering on GitHub or <a href=\"https://nbviewer.jupyter.org/\">NBViewer</a>),\n",
       "  it may mean that your frontend doesn't currently support widgets.\n",
       "</p>\n"
      ],
      "text/plain": [
       "GPAuthWidget()"
      ]
     },
     "metadata": {},
     "output_type": "display_data"
    }
   ],
   "source": [
    "# Requires GenePattern Notebook: pip install genepattern-notebook\n",
    "import gp\n",
    "import genepattern\n",
    "\n",
    "# Username and password removed for security reasons.\n",
    "genepattern.GPAuthWidget(genepattern.register_session(\"https://gp-beta-ami.genepattern.org/gp\", \"\", \"\"))"
   ]
  },
  {
   "cell_type": "code",
   "execution_count": 22,
   "metadata": {
    "genepattern": {
     "type": "task"
    }
   },
   "outputs": [
    {
     "data": {
      "application/vnd.jupyter.widget-view+json": {
       "model_id": "3eb922a48d744024bb8cfaeda663cda9",
       "version_major": 2,
       "version_minor": 0
      },
      "text/html": [
       "<p>Failed to display Jupyter Widget of type <code>GPTaskWidget</code>.</p>\n",
       "<p>\n",
       "  If you're reading this message in the Jupyter Notebook or JupyterLab Notebook, it may mean\n",
       "  that the widgets JavaScript is still loading. If this message persists, it\n",
       "  likely means that the widgets JavaScript library is either not installed or\n",
       "  not enabled. See the <a href=\"https://ipywidgets.readthedocs.io/en/stable/user_install.html\">Jupyter\n",
       "  Widgets Documentation</a> for setup instructions.\n",
       "</p>\n",
       "<p>\n",
       "  If you're reading this message in another frontend (for example, a static\n",
       "  rendering on GitHub or <a href=\"https://nbviewer.jupyter.org/\">NBViewer</a>),\n",
       "  it may mean that your frontend doesn't currently support widgets.\n",
       "</p>\n"
      ],
      "text/plain": [
       "GPTaskWidget(lsid='urn:lsid:broad.mit.edu:cancer.software.genepattern.module.analysis:00354')"
      ]
     },
     "metadata": {},
     "output_type": "display_data"
    }
   ],
   "source": [
    "mergehtseqcounts_task = gp.GPTask(genepattern.get_session(0), 'urn:lsid:broad.mit.edu:cancer.software.genepattern.module.analysis:00354')\n",
    "mergehtseqcounts_job_spec = mergehtseqcounts_task.make_job_spec()\n",
    "mergehtseqcounts_job_spec.set_parameter(\"input.files\", [\"https://gp-beta-ami.genepattern.org/gp/users/edjuaro/tmp/run744999004333385378.tmp/TCGA-A2-A04Q-01A-21R-A034-07.htseq.counts\", \"https://gp-beta-ami.genepattern.org/gp/users/edjuaro/tmp/run13359705627720104.tmp/TCGA-A8-A0A7-01A-11R-A00Z-07.htseq.counts\", \"https://gp-beta-ami.genepattern.org/gp/users/edjuaro/tmp/run8046244413214232262.tmp/TCGA-A8-A07L-01A-11R-A00Z-07.htseq.counts\", \"https://gp-beta-ami.genepattern.org/gp/users/edjuaro/tmp/run1815492277280923648.tmp/TCGA-A8-A07U-01A-11R-A034-07.htseq.counts\", \"https://gp-beta-ami.genepattern.org/gp/users/edjuaro/tmp/run8566581735785711420.tmp/TCGA-A8-A09X-01A-11R-A00Z-07.htseq.counts\", \"https://gp-beta-ami.genepattern.org/gp/users/edjuaro/tmp/run708642287096279592.tmp/TCGA-A8-A085-01A-11R-A00Z-07.htseq.counts\", \"https://gp-beta-ami.genepattern.org/gp/users/edjuaro/tmp/run5108217866746811875.tmp/TCGA-AC-A6NO-01A-12R-A33J-07.htseq.counts\", \"https://gp-beta-ami.genepattern.org/gp/users/edjuaro/tmp/run5525561448153922841.tmp/TCGA-AC-A23E-01A-11R-A157-07.htseq.counts\", \"https://gp-beta-ami.genepattern.org/gp/users/edjuaro/tmp/run6881398417738258811.tmp/TCGA-AN-A0AT-01A-11R-A034-07.htseq.counts\", \"https://gp-beta-ami.genepattern.org/gp/users/edjuaro/tmp/run96581383134467718.tmp/TCGA-AN-A0FT-01A-11R-A034-07.htseq.counts\", \"https://gp-beta-ami.genepattern.org/gp/users/edjuaro/tmp/run8859801058352740992.tmp/TCGA-AN-A0XL-01A-11R-A10J-07.htseq.counts\", \"https://gp-beta-ami.genepattern.org/gp/users/edjuaro/tmp/run6726368194824000435.tmp/TCGA-AN-A0XP-01A-11R-A109-07.htseq.counts\", \"https://gp-beta-ami.genepattern.org/gp/users/edjuaro/tmp/run4134175271211784535.tmp/TCGA-AO-A0JJ-01A-11R-A056-07.htseq.counts\", \"https://gp-beta-ami.genepattern.org/gp/users/edjuaro/tmp/run489231258566206083.tmp/TCGA-AO-A1KQ-01A-11R-A13Q-07.htseq.counts\", \"https://gp-beta-ami.genepattern.org/gp/users/edjuaro/tmp/run2216797091045340775.tmp/TCGA-AO-A129-01A-21R-A10J-07.htseq.counts\", \"https://gp-beta-ami.genepattern.org/gp/users/edjuaro/tmp/run3377540792599183536.tmp/TCGA-AQ-A0Y5-01A-11R-A14M-07.htseq.counts\", \"https://gp-beta-ami.genepattern.org/gp/users/edjuaro/tmp/run8674684449151513821.tmp/TCGA-AR-A0TR-01A-11R-A084-07.htseq.counts\", \"https://gp-beta-ami.genepattern.org/gp/users/edjuaro/tmp/run3131762398876793210.tmp/TCGA-B6-A0IO-01A-11R-A034-07.htseq.counts\", \"https://gp-beta-ami.genepattern.org/gp/users/edjuaro/tmp/run1138200707289750170.tmp/TCGA-B6-A0WW-01A-11R-A109-07.htseq.counts\", \"https://gp-beta-ami.genepattern.org/gp/users/edjuaro/tmp/run909410473799098796.tmp/TCGA-B6-A0X4-01A-11R-A109-07.htseq.counts\", \"https://gp-beta-ami.genepattern.org/gp/users/edjuaro/tmp/run4995139279996150752.tmp/TCGA-BH-A0B2-01A-11R-A10J-07.htseq.counts\", \"https://gp-beta-ami.genepattern.org/gp/users/edjuaro/tmp/run7823994606100652496.tmp/TCGA-BH-A0B9-01A-11R-A056-07.htseq.counts\", \"https://gp-beta-ami.genepattern.org/gp/users/edjuaro/tmp/run5278168448293517735.tmp/TCGA-BH-A0BT-11A-21R-A12P-07.htseq.counts\", \"https://gp-beta-ami.genepattern.org/gp/users/edjuaro/tmp/run7158251054047740161.tmp/TCGA-BH-A0BZ-11A-61R-A12P-07.htseq.counts\", \"https://gp-beta-ami.genepattern.org/gp/users/edjuaro/tmp/run251543390054019885.tmp/TCGA-BH-A0DV-01A-21R-A12P-07.htseq.counts\", \"https://gp-beta-ami.genepattern.org/gp/users/edjuaro/tmp/run9099023325297799493.tmp/TCGA-BH-A0E0-01A-11R-A056-07.htseq.counts\", \"https://gp-beta-ami.genepattern.org/gp/users/edjuaro/tmp/run6171372360944734410.tmp/TCGA-BH-A0H5-11A-62R-A115-07.htseq.counts\", \"https://gp-beta-ami.genepattern.org/gp/users/edjuaro/tmp/run6681932094785163130.tmp/TCGA-BH-A0HA-01A-11R-A12P-07.htseq.counts\", \"https://gp-beta-ami.genepattern.org/gp/users/edjuaro/tmp/run6982389362884313668.tmp/TCGA-BH-A0HA-11A-31R-A12P-07.htseq.counts\", \"https://gp-beta-ami.genepattern.org/gp/users/edjuaro/tmp/run8110037704171936424.tmp/TCGA-BH-A0HI-01A-11R-A084-07.htseq.counts\", \"https://gp-beta-ami.genepattern.org/gp/users/edjuaro/tmp/run8637890844781678623.tmp/TCGA-BH-A0HQ-01A-11R-A034-07.htseq.counts\", \"https://gp-beta-ami.genepattern.org/gp/users/edjuaro/tmp/run8371416600680348057.tmp/TCGA-BH-A1EO-01A-11R-A137-07.htseq.counts\", \"https://gp-beta-ami.genepattern.org/gp/users/edjuaro/tmp/run5408216465586429843.tmp/TCGA-BH-A1FL-01A-11R-A13Q-07.htseq.counts\", \"https://gp-beta-ami.genepattern.org/gp/users/edjuaro/tmp/run2653632245583528734.tmp/TCGA-BH-A28Q-01A-11R-A16F-07.htseq.counts\", \"https://gp-beta-ami.genepattern.org/gp/users/edjuaro/tmp/run1989278716465793275.tmp/TCGA-C8-A12Y-01A-11R-A12D-07.htseq.counts\", \"https://gp-beta-ami.genepattern.org/gp/users/edjuaro/tmp/run7295390436346355757.tmp/TCGA-D8-A1J9-01A-11R-A13Q-07.htseq.counts\", \"https://gp-beta-ami.genepattern.org/gp/users/edjuaro/tmp/run5927131855017321442.tmp/TCGA-D8-A1JE-01A-11R-A13Q-07.htseq.counts\", \"https://gp-beta-ami.genepattern.org/gp/users/edjuaro/tmp/run4929899175960107598.tmp/TCGA-D8-A1JM-01A-11R-A13Q-07.htseq.counts\", \"https://gp-beta-ami.genepattern.org/gp/users/edjuaro/tmp/run2613812816244776791.tmp/TCGA-D8-A1JS-01A-11R-A13Q-07.htseq.counts\", \"https://gp-beta-ami.genepattern.org/gp/users/edjuaro/tmp/run5195433822282999316.tmp/TCGA-D8-A1XO-01A-11R-A14M-07.htseq.counts\", \"https://gp-beta-ami.genepattern.org/gp/users/edjuaro/tmp/run7491736768668996291.tmp/TCGA-E2-A2P5-01A-11R-A19W-07.htseq.counts\", \"https://gp-beta-ami.genepattern.org/gp/users/edjuaro/tmp/run4134909931064155300.tmp/TCGA-E2-A15E-06A-11R-A12D-07.htseq.counts\", \"https://gp-beta-ami.genepattern.org/gp/users/edjuaro/tmp/run7058839571208294750.tmp/TCGA-E2-A56Z-01A-12R-A29R-07.htseq.counts\", \"https://gp-beta-ami.genepattern.org/gp/users/edjuaro/tmp/run8168782250641477633.tmp/TCGA-E9-A5UO-01A-11R-A28M-07.htseq.counts\", \"https://gp-beta-ami.genepattern.org/gp/users/edjuaro/tmp/run586389469448663863.tmp/TCGA-E9-A54Y-01A-11R-A466-07.htseq.counts\", \"https://gp-beta-ami.genepattern.org/gp/users/edjuaro/tmp/run5855218547363989545.tmp/TCGA-EW-A3E8-01B-11R-A24H-07.htseq.counts\", \"https://gp-beta-ami.genepattern.org/gp/users/edjuaro/tmp/run2886770483381485156.tmp/TCGA-EW-A424-01A-11R-A24H-07.htseq.counts\", \"https://gp-beta-ami.genepattern.org/gp/users/edjuaro/tmp/run3591052746783785278.tmp/TCGA-OL-A5RZ-01A-11R-A28M-07.htseq.counts\", \"https://gp-beta-ami.genepattern.org/gp/users/edjuaro/tmp/run4874550250610649929.tmp/TCGA-PL-A8LV-01A-21R-A41B-07.htseq.counts\", \"https://gp-beta-ami.genepattern.org/gp/users/edjuaro/tmp/run7669858897991795190.tmp/TCGA-V7-A7HQ-01A-11R-A33J-07.htseq.counts\"])\n",
    "mergehtseqcounts_job_spec.set_parameter(\"output.prefix\", \"<input.files_basename>\")\n",
    "mergehtseqcounts_job_spec.set_parameter(\"sampleinfo.file\", \"https://gp-beta-ami.genepattern.org/gp/users/edjuaro/tmp/run7095681675137959019.tmp/TCGA_BRCA_all.txt\")\n",
    "mergehtseqcounts_job_spec.set_parameter(\"filenames.column\", \"0\")\n",
    "mergehtseqcounts_job_spec.set_parameter(\"class.division.column\", \"1\")\n",
    "mergehtseqcounts_job_spec.set_parameter(\"sample.name.column\", \"2\")\n",
    "genepattern.GPTaskWidget(mergehtseqcounts_task)"
   ]
  },
  {
   "cell_type": "code",
   "execution_count": 27,
   "metadata": {
    "genepattern": {
     "type": "job"
    }
   },
   "outputs": [
    {
     "data": {
      "application/vnd.jupyter.widget-view+json": {
       "model_id": "c45c2e18caee4b109ed40bb6024bd738",
       "version_major": 2,
       "version_minor": 0
      },
      "text/html": [
       "<p>Failed to display Jupyter Widget of type <code>GPJobWidget</code>.</p>\n",
       "<p>\n",
       "  If you're reading this message in the Jupyter Notebook or JupyterLab Notebook, it may mean\n",
       "  that the widgets JavaScript is still loading. If this message persists, it\n",
       "  likely means that the widgets JavaScript library is either not installed or\n",
       "  not enabled. See the <a href=\"https://ipywidgets.readthedocs.io/en/stable/user_install.html\">Jupyter\n",
       "  Widgets Documentation</a> for setup instructions.\n",
       "</p>\n",
       "<p>\n",
       "  If you're reading this message in another frontend (for example, a static\n",
       "  rendering on GitHub or <a href=\"https://nbviewer.jupyter.org/\">NBViewer</a>),\n",
       "  it may mean that your frontend doesn't currently support widgets.\n",
       "</p>\n"
      ],
      "text/plain": [
       "GPJobWidget(job_number=9268)"
      ]
     },
     "metadata": {},
     "output_type": "display_data"
    }
   ],
   "source": [
    "job9268 = gp.GPJob(genepattern.get_session(0), 9268)\n",
    "genepattern.GPJobWidget(job9268)"
   ]
  },
  {
   "cell_type": "code",
   "execution_count": 6,
   "metadata": {
    "genepattern": {
     "output_variable": "unversioned_url",
     "param_values": {
      "MergeHTSeqCounts_gct_file": [
       "https://gp-beta-ami.genepattern.org/gp/jobResults/9268/input.files.list.gct"
      ]
     },
     "show_code": false,
     "type": "uibuilder"
    }
   },
   "outputs": [
    {
     "data": {
      "application/vnd.jupyter.widget-view+json": {
       "model_id": "5f57e0d96c5148b3ba55027a15c6c755",
       "version_major": 2,
       "version_minor": 0
      },
      "text/html": [
       "<p>Failed to display Jupyter Widget of type <code>GPUIBuilder</code>.</p>\n",
       "<p>\n",
       "  If you're reading this message in the Jupyter Notebook or JupyterLab Notebook, it may mean\n",
       "  that the widgets JavaScript is still loading. If this message persists, it\n",
       "  likely means that the widgets JavaScript library is either not installed or\n",
       "  not enabled. See the <a href=\"https://ipywidgets.readthedocs.io/en/stable/user_install.html\">Jupyter\n",
       "  Widgets Documentation</a> for setup instructions.\n",
       "</p>\n",
       "<p>\n",
       "  If you're reading this message in another frontend (for example, a static\n",
       "  rendering on GitHub or <a href=\"https://nbviewer.jupyter.org/\">NBViewer</a>),\n",
       "  it may mean that your frontend doesn't currently support widgets.\n",
       "</p>\n"
      ],
      "text/plain": [
       "GPUIBuilder(description='Strip out the version from the Ensembl ids in a gct file and save it as  a new gct file on the GenePattern server.  Returns the URL to be used in the next job and also writes it to a notebook variable called \"my_local_url\". The method requires the gct  file from a comlpeted MergeHTSeqCounts job.', function_import='stripEnsembleIdAndGetLocalUrl', name='Strip Ensembl Version and write a new GCT', params=[{'name': 'MergeHTSeqCounts_gct_file', 'label': 'MergeHTSeqCounts_gct_file', 'optional': False, 'default': '', 'description': '', 'hide': False, 'type': 'file', 'kinds': ['gct'], 'choices': []}])"
      ]
     },
     "metadata": {},
     "output_type": "display_data"
    }
   ],
   "source": [
    "import os \n",
    "from gp.data import GCT\n",
    "global my_local_url\n",
    "@genepattern.build_ui( name=\"Strip Ensembl Version and write a new GCT\",\n",
    "                      description=\"Strip out the version from the Ensembl ids in a gct file and save it as \"\n",
    "                      +\" a new gct file on the GenePattern server.  Returns the URL to be used in the next job \"\n",
    "                      +\"and also writes it to a notebook variable called \\\"my_local_url\\\". The method requires the gct \"\n",
    "                      +\" file from a comlpeted MergeHTSeqCounts job.\", parameters={\n",
    "    \"MergeHTSeqCounts_gct_file\": {\n",
    "        \"type\": \"file\",\n",
    "        \"kinds\": [\"gct\"]\n",
    "    }\n",
    "})\n",
    "def stripEnsembleIdAndGetLocalUrl(MergeHTSeqCounts_gct_file):\n",
    "    \n",
    "    \n",
    "    # get the input filename and job number\n",
    "    jobNum = MergeHTSeqCounts_gct_file.split(\"/\")[-2]\n",
    "    input_gct_file_Name = MergeHTSeqCounts_gct_file.split(\"/\")[-1]\n",
    "    output_gct_filename = input_gct_file_Name.replace('gct',\"_versionless.gct\")\n",
    "    \n",
    "    # get the GenePattern input job object and my username\n",
    "    lastJob = gp.GPJob(genepattern.get_session(0), jobNum)\n",
    "    myUserId = genepattern.get_session(0).username\n",
    "    \n",
    "    # this is the part that actually removes the version id\n",
    "    input_gct = GCT(lastJob.get_file(input_gct_file_Name))\n",
    "    df2 = input_gct.dataframe.reset_index()\n",
    "    df2['Name'] = df2['Name'].apply(lambda x: x.split(\".\")[0])\n",
    "    \n",
    "    # reset the index on name and Description in case we want to look at this dataframe later\n",
    "    #df2.set_index(['Name', 'Description'])\n",
    "    \n",
    "    # now save it back as a new file local to the Notebook server\n",
    "    with open(output_gct_filename, 'w') as f:\n",
    "        f.writelines('#1.2\\n{}\\t{}\\n'.format(df2.shape[0], df2.shape[1] - 2))\n",
    "        df2.to_csv(f, sep='\\t', index= False)\n",
    "\n",
    "    # upload the local file onto the GenePattern server so we can use it in the next module\n",
    "    uploaded = genepattern.get_session(0).upload_file(output_gct_filename, output_gct_filename) \n",
    "    my_local_url = uploaded.get_url()  \n",
    "    print(\"Stripped GCT file url is: \"+ my_local_url)\n",
    "    return my_local_url"
   ]
  },
  {
   "cell_type": "code",
   "execution_count": 37,
   "metadata": {},
   "outputs": [
    {
     "name": "stderr",
     "output_type": "stream",
     "text": [
      "/Users/edjuaro/miniconda3/lib/python3.6/site-packages/gp/data.py:163: UserWarning: Pandas doesn't allow columns to be created via a new attribute name - see https://pandas.pydata.org/pandas-docs/stable/indexing.html#attribute-access\n",
      "  df.dataframe = df\n"
     ]
    },
    {
     "name": "stdout",
     "output_type": "stream",
     "text": [
      "Stripped GCT file url is: https://gp-beta-ami.genepattern.org/gp/users/edjuaro/tmp/run8879382091262554301.tmp/input.files.list._versionless.gct\n"
     ]
    }
   ],
   "source": [
    "unversioned_url = stripEnsembleIdAndGetLocalUrl(MergeHTSeqCounts_gct_file=\"https://gp-beta-ami.genepattern.org/gp/jobResults/9268/input.files.list.gct\")"
   ]
  },
  {
   "cell_type": "code",
   "execution_count": 10,
   "metadata": {
    "genepattern": {
     "type": "task"
    }
   },
   "outputs": [
    {
     "data": {
      "application/vnd.jupyter.widget-view+json": {
       "model_id": "bf076805cfc747009fe082eac84c9e92",
       "version_major": 2,
       "version_minor": 0
      },
      "text/html": [
       "<p>Failed to display Jupyter Widget of type <code>GPTaskWidget</code>.</p>\n",
       "<p>\n",
       "  If you're reading this message in the Jupyter Notebook or JupyterLab Notebook, it may mean\n",
       "  that the widgets JavaScript is still loading. If this message persists, it\n",
       "  likely means that the widgets JavaScript library is either not installed or\n",
       "  not enabled. See the <a href=\"https://ipywidgets.readthedocs.io/en/stable/user_install.html\">Jupyter\n",
       "  Widgets Documentation</a> for setup instructions.\n",
       "</p>\n",
       "<p>\n",
       "  If you're reading this message in another frontend (for example, a static\n",
       "  rendering on GitHub or <a href=\"https://nbviewer.jupyter.org/\">NBViewer</a>),\n",
       "  it may mean that your frontend doesn't currently support widgets.\n",
       "</p>\n"
      ],
      "text/plain": [
       "GPTaskWidget(lsid='urn:lsid:broad.mit.edu:cancer.software.genepattern.module.analysis:00134')"
      ]
     },
     "metadata": {},
     "output_type": "display_data"
    }
   ],
   "source": [
    "collapsedataset_task = gp.GPTask(genepattern.get_session(0), 'urn:lsid:broad.mit.edu:cancer.software.genepattern.module.analysis:00134')\n",
    "collapsedataset_job_spec = collapsedataset_task.make_job_spec()\n",
    "collapsedataset_job_spec.set_parameter(\"dataset.file\", \"{{unversioned_url}}\")\n",
    "collapsedataset_job_spec.set_parameter(\"chip.platform\", \"ftp://ftp.broadinstitute.org/pub/gsea/annotations/ENSEMBL_human_gene.chip\")\n",
    "collapsedataset_job_spec.set_parameter(\"collapse.mode\", \"Maximum\")\n",
    "collapsedataset_job_spec.set_parameter(\"output.file.name\", \"<dataset.file_basename>.collapsed\")\n",
    "genepattern.GPTaskWidget(collapsedataset_task)"
   ]
  },
  {
   "cell_type": "code",
   "execution_count": 38,
   "metadata": {
    "genepattern": {
     "type": "job"
    }
   },
   "outputs": [
    {
     "data": {
      "application/vnd.jupyter.widget-view+json": {
       "model_id": "808e7dd1305245bd905a359b1107be1c",
       "version_major": 2,
       "version_minor": 0
      },
      "text/html": [
       "<p>Failed to display Jupyter Widget of type <code>GPJobWidget</code>.</p>\n",
       "<p>\n",
       "  If you're reading this message in the Jupyter Notebook or JupyterLab Notebook, it may mean\n",
       "  that the widgets JavaScript is still loading. If this message persists, it\n",
       "  likely means that the widgets JavaScript library is either not installed or\n",
       "  not enabled. See the <a href=\"https://ipywidgets.readthedocs.io/en/stable/user_install.html\">Jupyter\n",
       "  Widgets Documentation</a> for setup instructions.\n",
       "</p>\n",
       "<p>\n",
       "  If you're reading this message in another frontend (for example, a static\n",
       "  rendering on GitHub or <a href=\"https://nbviewer.jupyter.org/\">NBViewer</a>),\n",
       "  it may mean that your frontend doesn't currently support widgets.\n",
       "</p>\n"
      ],
      "text/plain": [
       "GPJobWidget(job_number=9269)"
      ]
     },
     "metadata": {},
     "output_type": "display_data"
    }
   ],
   "source": [
    "job9269 = gp.GPJob(genepattern.get_session(0), 9269)\n",
    "genepattern.GPJobWidget(job9269)"
   ]
  },
  {
   "cell_type": "code",
   "execution_count": null,
   "metadata": {},
   "outputs": [],
   "source": []
  }
 ],
 "metadata": {
  "kernelspec": {
   "display_name": "Python 3",
   "language": "python",
   "name": "python3"
  },
  "language_info": {
   "codemirror_mode": {
    "name": "ipython",
    "version": 3
   },
   "file_extension": ".py",
   "mimetype": "text/x-python",
   "name": "python",
   "nbconvert_exporter": "python",
   "pygments_lexer": "ipython3",
   "version": "3.6.3"
  }
 },
 "nbformat": 4,
 "nbformat_minor": 2
}
